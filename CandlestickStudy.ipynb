{
 "cells": [
  {
   "cell_type": "markdown",
   "metadata": {},
   "source": [
    "# Import Libraries"
   ]
  },
  {
   "cell_type": "code",
   "execution_count": 2,
   "metadata": {},
   "outputs": [],
   "source": [
    "import talib\n",
    "import quandl"
   ]
  },
  {
   "cell_type": "markdown",
   "metadata": {},
   "source": [
    "# Download Financial Data"
   ]
  },
  {
   "cell_type": "code",
   "execution_count": 3,
   "metadata": {},
   "outputs": [],
   "source": [
    "data = quandl.get(\"WIKI/NVDA\")"
   ]
  },
  {
   "cell_type": "code",
   "execution_count": 4,
   "metadata": {},
   "outputs": [
    {
     "data": {
      "text/plain": [
       "Index(['Open', 'High', 'Low', 'Close', 'Volume', 'Ex-Dividend', 'Split Ratio',\n",
       "       'Adj. Open', 'Adj. High', 'Adj. Low', 'Adj. Close', 'Adj. Volume'],\n",
       "      dtype='object')"
      ]
     },
     "execution_count": 4,
     "metadata": {},
     "output_type": "execute_result"
    }
   ],
   "source": [
    "data.columns"
   ]
  },
  {
   "cell_type": "code",
   "execution_count": 5,
   "metadata": {},
   "outputs": [
    {
     "data": {
      "text/html": [
       "<div>\n",
       "<style scoped>\n",
       "    .dataframe tbody tr th:only-of-type {\n",
       "        vertical-align: middle;\n",
       "    }\n",
       "\n",
       "    .dataframe tbody tr th {\n",
       "        vertical-align: top;\n",
       "    }\n",
       "\n",
       "    .dataframe thead th {\n",
       "        text-align: right;\n",
       "    }\n",
       "</style>\n",
       "<table border=\"1\" class=\"dataframe\">\n",
       "  <thead>\n",
       "    <tr style=\"text-align: right;\">\n",
       "      <th></th>\n",
       "      <th>Open</th>\n",
       "      <th>High</th>\n",
       "      <th>Low</th>\n",
       "      <th>Close</th>\n",
       "      <th>Volume</th>\n",
       "      <th>Ex-Dividend</th>\n",
       "      <th>Split Ratio</th>\n",
       "      <th>Adj. Open</th>\n",
       "      <th>Adj. High</th>\n",
       "      <th>Adj. Low</th>\n",
       "      <th>Adj. Close</th>\n",
       "      <th>Adj. Volume</th>\n",
       "    </tr>\n",
       "    <tr>\n",
       "      <th>Date</th>\n",
       "      <th></th>\n",
       "      <th></th>\n",
       "      <th></th>\n",
       "      <th></th>\n",
       "      <th></th>\n",
       "      <th></th>\n",
       "      <th></th>\n",
       "      <th></th>\n",
       "      <th></th>\n",
       "      <th></th>\n",
       "      <th></th>\n",
       "      <th></th>\n",
       "    </tr>\n",
       "  </thead>\n",
       "  <tbody>\n",
       "    <tr>\n",
       "      <th>1999-01-22</th>\n",
       "      <td>21.00</td>\n",
       "      <td>23.44</td>\n",
       "      <td>18.630</td>\n",
       "      <td>19.69</td>\n",
       "      <td>5655600.0</td>\n",
       "      <td>0.0</td>\n",
       "      <td>1.0</td>\n",
       "      <td>1.623824</td>\n",
       "      <td>1.812497</td>\n",
       "      <td>1.440564</td>\n",
       "      <td>1.522529</td>\n",
       "      <td>67867200.0</td>\n",
       "    </tr>\n",
       "    <tr>\n",
       "      <th>1999-01-25</th>\n",
       "      <td>21.25</td>\n",
       "      <td>22.00</td>\n",
       "      <td>19.690</td>\n",
       "      <td>21.75</td>\n",
       "      <td>1063500.0</td>\n",
       "      <td>0.0</td>\n",
       "      <td>1.0</td>\n",
       "      <td>1.643156</td>\n",
       "      <td>1.701149</td>\n",
       "      <td>1.522529</td>\n",
       "      <td>1.681818</td>\n",
       "      <td>12762000.0</td>\n",
       "    </tr>\n",
       "    <tr>\n",
       "      <th>1999-01-26</th>\n",
       "      <td>22.00</td>\n",
       "      <td>22.44</td>\n",
       "      <td>19.750</td>\n",
       "      <td>20.06</td>\n",
       "      <td>715000.0</td>\n",
       "      <td>0.0</td>\n",
       "      <td>1.0</td>\n",
       "      <td>1.701149</td>\n",
       "      <td>1.735172</td>\n",
       "      <td>1.527168</td>\n",
       "      <td>1.551139</td>\n",
       "      <td>8580000.0</td>\n",
       "    </tr>\n",
       "    <tr>\n",
       "      <th>1999-01-27</th>\n",
       "      <td>20.13</td>\n",
       "      <td>20.63</td>\n",
       "      <td>19.000</td>\n",
       "      <td>20.00</td>\n",
       "      <td>509100.0</td>\n",
       "      <td>0.0</td>\n",
       "      <td>1.0</td>\n",
       "      <td>1.556552</td>\n",
       "      <td>1.595214</td>\n",
       "      <td>1.469174</td>\n",
       "      <td>1.546499</td>\n",
       "      <td>6109200.0</td>\n",
       "    </tr>\n",
       "    <tr>\n",
       "      <th>1999-01-28</th>\n",
       "      <td>20.00</td>\n",
       "      <td>20.13</td>\n",
       "      <td>19.810</td>\n",
       "      <td>19.94</td>\n",
       "      <td>474000.0</td>\n",
       "      <td>0.0</td>\n",
       "      <td>1.0</td>\n",
       "      <td>1.546499</td>\n",
       "      <td>1.556552</td>\n",
       "      <td>1.531808</td>\n",
       "      <td>1.541860</td>\n",
       "      <td>5688000.0</td>\n",
       "    </tr>\n",
       "    <tr>\n",
       "      <th>...</th>\n",
       "      <td>...</td>\n",
       "      <td>...</td>\n",
       "      <td>...</td>\n",
       "      <td>...</td>\n",
       "      <td>...</td>\n",
       "      <td>...</td>\n",
       "      <td>...</td>\n",
       "      <td>...</td>\n",
       "      <td>...</td>\n",
       "      <td>...</td>\n",
       "      <td>...</td>\n",
       "      <td>...</td>\n",
       "    </tr>\n",
       "    <tr>\n",
       "      <th>2018-03-21</th>\n",
       "      <td>249.32</td>\n",
       "      <td>252.00</td>\n",
       "      <td>247.330</td>\n",
       "      <td>248.56</td>\n",
       "      <td>10841782.0</td>\n",
       "      <td>0.0</td>\n",
       "      <td>1.0</td>\n",
       "      <td>249.320000</td>\n",
       "      <td>252.000000</td>\n",
       "      <td>247.330000</td>\n",
       "      <td>248.560000</td>\n",
       "      <td>10841782.0</td>\n",
       "    </tr>\n",
       "    <tr>\n",
       "      <th>2018-03-22</th>\n",
       "      <td>246.00</td>\n",
       "      <td>247.88</td>\n",
       "      <td>240.341</td>\n",
       "      <td>241.85</td>\n",
       "      <td>13663927.0</td>\n",
       "      <td>0.0</td>\n",
       "      <td>1.0</td>\n",
       "      <td>246.000000</td>\n",
       "      <td>247.880000</td>\n",
       "      <td>240.341000</td>\n",
       "      <td>241.850000</td>\n",
       "      <td>13663927.0</td>\n",
       "    </tr>\n",
       "    <tr>\n",
       "      <th>2018-03-23</th>\n",
       "      <td>242.40</td>\n",
       "      <td>242.67</td>\n",
       "      <td>232.520</td>\n",
       "      <td>232.97</td>\n",
       "      <td>18225390.0</td>\n",
       "      <td>0.0</td>\n",
       "      <td>1.0</td>\n",
       "      <td>242.400000</td>\n",
       "      <td>242.670000</td>\n",
       "      <td>232.520000</td>\n",
       "      <td>232.970000</td>\n",
       "      <td>18225390.0</td>\n",
       "    </tr>\n",
       "    <tr>\n",
       "      <th>2018-03-26</th>\n",
       "      <td>238.00</td>\n",
       "      <td>244.53</td>\n",
       "      <td>235.900</td>\n",
       "      <td>244.48</td>\n",
       "      <td>15130542.0</td>\n",
       "      <td>0.0</td>\n",
       "      <td>1.0</td>\n",
       "      <td>238.000000</td>\n",
       "      <td>244.530000</td>\n",
       "      <td>235.900000</td>\n",
       "      <td>244.480000</td>\n",
       "      <td>15130542.0</td>\n",
       "    </tr>\n",
       "    <tr>\n",
       "      <th>2018-03-27</th>\n",
       "      <td>247.75</td>\n",
       "      <td>250.00</td>\n",
       "      <td>219.845</td>\n",
       "      <td>225.52</td>\n",
       "      <td>34462113.0</td>\n",
       "      <td>0.0</td>\n",
       "      <td>1.0</td>\n",
       "      <td>247.750000</td>\n",
       "      <td>250.000000</td>\n",
       "      <td>219.845000</td>\n",
       "      <td>225.520000</td>\n",
       "      <td>34462113.0</td>\n",
       "    </tr>\n",
       "  </tbody>\n",
       "</table>\n",
       "<p>4825 rows × 12 columns</p>\n",
       "</div>"
      ],
      "text/plain": [
       "              Open    High      Low   Close      Volume  Ex-Dividend  \\\n",
       "Date                                                                   \n",
       "1999-01-22   21.00   23.44   18.630   19.69   5655600.0          0.0   \n",
       "1999-01-25   21.25   22.00   19.690   21.75   1063500.0          0.0   \n",
       "1999-01-26   22.00   22.44   19.750   20.06    715000.0          0.0   \n",
       "1999-01-27   20.13   20.63   19.000   20.00    509100.0          0.0   \n",
       "1999-01-28   20.00   20.13   19.810   19.94    474000.0          0.0   \n",
       "...            ...     ...      ...     ...         ...          ...   \n",
       "2018-03-21  249.32  252.00  247.330  248.56  10841782.0          0.0   \n",
       "2018-03-22  246.00  247.88  240.341  241.85  13663927.0          0.0   \n",
       "2018-03-23  242.40  242.67  232.520  232.97  18225390.0          0.0   \n",
       "2018-03-26  238.00  244.53  235.900  244.48  15130542.0          0.0   \n",
       "2018-03-27  247.75  250.00  219.845  225.52  34462113.0          0.0   \n",
       "\n",
       "            Split Ratio   Adj. Open   Adj. High    Adj. Low  Adj. Close  \\\n",
       "Date                                                                      \n",
       "1999-01-22          1.0    1.623824    1.812497    1.440564    1.522529   \n",
       "1999-01-25          1.0    1.643156    1.701149    1.522529    1.681818   \n",
       "1999-01-26          1.0    1.701149    1.735172    1.527168    1.551139   \n",
       "1999-01-27          1.0    1.556552    1.595214    1.469174    1.546499   \n",
       "1999-01-28          1.0    1.546499    1.556552    1.531808    1.541860   \n",
       "...                 ...         ...         ...         ...         ...   \n",
       "2018-03-21          1.0  249.320000  252.000000  247.330000  248.560000   \n",
       "2018-03-22          1.0  246.000000  247.880000  240.341000  241.850000   \n",
       "2018-03-23          1.0  242.400000  242.670000  232.520000  232.970000   \n",
       "2018-03-26          1.0  238.000000  244.530000  235.900000  244.480000   \n",
       "2018-03-27          1.0  247.750000  250.000000  219.845000  225.520000   \n",
       "\n",
       "            Adj. Volume  \n",
       "Date                     \n",
       "1999-01-22   67867200.0  \n",
       "1999-01-25   12762000.0  \n",
       "1999-01-26    8580000.0  \n",
       "1999-01-27    6109200.0  \n",
       "1999-01-28    5688000.0  \n",
       "...                 ...  \n",
       "2018-03-21   10841782.0  \n",
       "2018-03-22   13663927.0  \n",
       "2018-03-23   18225390.0  \n",
       "2018-03-26   15130542.0  \n",
       "2018-03-27   34462113.0  \n",
       "\n",
       "[4825 rows x 12 columns]"
      ]
     },
     "execution_count": 5,
     "metadata": {},
     "output_type": "execute_result"
    }
   ],
   "source": [
    "data"
   ]
  },
  {
   "cell_type": "markdown",
   "metadata": {},
   "source": [
    "# Import Financial Data Plotting Library: mplfinance"
   ]
  },
  {
   "cell_type": "code",
   "execution_count": 18,
   "metadata": {},
   "outputs": [],
   "source": [
    "import mplfinance as mpf"
   ]
  },
  {
   "cell_type": "code",
   "execution_count": 30,
   "metadata": {},
   "outputs": [
    {
     "name": "stderr",
     "output_type": "stream",
     "text": [
      "C:\\Users\\Rosie\\anaconda3\\lib\\site-packages\\mplfinance\\_arg_validators.py:35: UserWarning: \n",
      "\n",
      " ================================================================= \n",
      "\n",
      "   WARNING: YOU ARE PLOTTING SO MUCH DATA THAT IT MAY NOT BE\n",
      "            POSSIBLE TO SEE DETAILS (Candles, Ohlc-Bars, Etc.)\n",
      "   For more information see:\n",
      "   - https://github.com/matplotlib/mplfinance/wiki/Plotting-Too-Much-Data\n",
      "   \n",
      "   TO SILENCE THIS WARNING, set `type='line'` in `mpf.plot()`\n",
      "   OR set kwarg `warn_too_much_data=N` where N is an integer \n",
      "   LARGER than the number of data points you want to plot.\n",
      "\n",
      " ================================================================ \n",
      "  warnings.warn('\\n\\n ================================================================= '+\n"
     ]
    },
    {
     "data": {
      "image/png": "[encoded data removed]",
      "text/plain": [
       "<Figure size 2300x575 with 2 Axes>"
      ]
     },
     "metadata": {},
     "output_type": "display_data"
    }
   ],
   "source": [
    "mpf.plot(data, figratio=(16,4))"
   ]
  },
  {
   "cell_type": "code",
   "execution_count": 32,
   "metadata": {},
   "outputs": [
    {
     "data": {
      "image/png": "[encoded data removed]",
      "text/plain": [
       "<Figure size 2300x575 with 2 Axes>"
      ]
     },
     "metadata": {},
     "output_type": "display_data"
    }
   ],
   "source": [
    "mpf.plot(data.loc['2017-09-01':], type='candle', figratio=(16,4))"
   ]
  },
  {
   "cell_type": "markdown",
   "metadata": {},
   "source": [
    "# Make a Copy of the Original Dataframe and Customize It"
   ]
  },
  {
   "cell_type": "code",
   "execution_count": 6,
   "metadata": {},
   "outputs": [],
   "source": [
    "df = data.copy()\n",
    "df.drop(axis=1, columns=[\"Open\",\"High\",\"Low\",\"Close\",\"Volume\", \"Ex-Dividend\", \"Split Ratio\"], inplace=True)\n",
    "df.rename(columns={\"Adj. Open\":\"open\", \"Adj. High\":\"high\", \"Adj. Low\":\"low\", \"Adj. Close\":\"close\", \"Adj. Volume\":\"volume\"},inplace=True)"
   ]
  },
  {
   "cell_type": "code",
   "execution_count": 7,
   "metadata": {},
   "outputs": [
    {
     "data": {
      "text/html": [
       "<div>\n",
       "<style scoped>\n",
       "    .dataframe tbody tr th:only-of-type {\n",
       "        vertical-align: middle;\n",
       "    }\n",
       "\n",
       "    .dataframe tbody tr th {\n",
       "        vertical-align: top;\n",
       "    }\n",
       "\n",
       "    .dataframe thead th {\n",
       "        text-align: right;\n",
       "    }\n",
       "</style>\n",
       "<table border=\"1\" class=\"dataframe\">\n",
       "  <thead>\n",
       "    <tr style=\"text-align: right;\">\n",
       "      <th></th>\n",
       "      <th>open</th>\n",
       "      <th>high</th>\n",
       "      <th>low</th>\n",
       "      <th>close</th>\n",
       "      <th>volume</th>\n",
       "    </tr>\n",
       "    <tr>\n",
       "      <th>Date</th>\n",
       "      <th></th>\n",
       "      <th></th>\n",
       "      <th></th>\n",
       "      <th></th>\n",
       "      <th></th>\n",
       "    </tr>\n",
       "  </thead>\n",
       "  <tbody>\n",
       "    <tr>\n",
       "      <th>1999-01-22</th>\n",
       "      <td>1.623824</td>\n",
       "      <td>1.812497</td>\n",
       "      <td>1.440564</td>\n",
       "      <td>1.522529</td>\n",
       "      <td>67867200.0</td>\n",
       "    </tr>\n",
       "    <tr>\n",
       "      <th>1999-01-25</th>\n",
       "      <td>1.643156</td>\n",
       "      <td>1.701149</td>\n",
       "      <td>1.522529</td>\n",
       "      <td>1.681818</td>\n",
       "      <td>12762000.0</td>\n",
       "    </tr>\n",
       "    <tr>\n",
       "      <th>1999-01-26</th>\n",
       "      <td>1.701149</td>\n",
       "      <td>1.735172</td>\n",
       "      <td>1.527168</td>\n",
       "      <td>1.551139</td>\n",
       "      <td>8580000.0</td>\n",
       "    </tr>\n",
       "    <tr>\n",
       "      <th>1999-01-27</th>\n",
       "      <td>1.556552</td>\n",
       "      <td>1.595214</td>\n",
       "      <td>1.469174</td>\n",
       "      <td>1.546499</td>\n",
       "      <td>6109200.0</td>\n",
       "    </tr>\n",
       "    <tr>\n",
       "      <th>1999-01-28</th>\n",
       "      <td>1.546499</td>\n",
       "      <td>1.556552</td>\n",
       "      <td>1.531808</td>\n",
       "      <td>1.541860</td>\n",
       "      <td>5688000.0</td>\n",
       "    </tr>\n",
       "    <tr>\n",
       "      <th>...</th>\n",
       "      <td>...</td>\n",
       "      <td>...</td>\n",
       "      <td>...</td>\n",
       "      <td>...</td>\n",
       "      <td>...</td>\n",
       "    </tr>\n",
       "    <tr>\n",
       "      <th>2018-03-21</th>\n",
       "      <td>249.320000</td>\n",
       "      <td>252.000000</td>\n",
       "      <td>247.330000</td>\n",
       "      <td>248.560000</td>\n",
       "      <td>10841782.0</td>\n",
       "    </tr>\n",
       "    <tr>\n",
       "      <th>2018-03-22</th>\n",
       "      <td>246.000000</td>\n",
       "      <td>247.880000</td>\n",
       "      <td>240.341000</td>\n",
       "      <td>241.850000</td>\n",
       "      <td>13663927.0</td>\n",
       "    </tr>\n",
       "    <tr>\n",
       "      <th>2018-03-23</th>\n",
       "      <td>242.400000</td>\n",
       "      <td>242.670000</td>\n",
       "      <td>232.520000</td>\n",
       "      <td>232.970000</td>\n",
       "      <td>18225390.0</td>\n",
       "    </tr>\n",
       "    <tr>\n",
       "      <th>2018-03-26</th>\n",
       "      <td>238.000000</td>\n",
       "      <td>244.530000</td>\n",
       "      <td>235.900000</td>\n",
       "      <td>244.480000</td>\n",
       "      <td>15130542.0</td>\n",
       "    </tr>\n",
       "    <tr>\n",
       "      <th>2018-03-27</th>\n",
       "      <td>247.750000</td>\n",
       "      <td>250.000000</td>\n",
       "      <td>219.845000</td>\n",
       "      <td>225.520000</td>\n",
       "      <td>34462113.0</td>\n",
       "    </tr>\n",
       "  </tbody>\n",
       "</table>\n",
       "<p>4825 rows × 5 columns</p>\n",
       "</div>"
      ],
      "text/plain": [
       "                  open        high         low       close      volume\n",
       "Date                                                                  \n",
       "1999-01-22    1.623824    1.812497    1.440564    1.522529  67867200.0\n",
       "1999-01-25    1.643156    1.701149    1.522529    1.681818  12762000.0\n",
       "1999-01-26    1.701149    1.735172    1.527168    1.551139   8580000.0\n",
       "1999-01-27    1.556552    1.595214    1.469174    1.546499   6109200.0\n",
       "1999-01-28    1.546499    1.556552    1.531808    1.541860   5688000.0\n",
       "...                ...         ...         ...         ...         ...\n",
       "2018-03-21  249.320000  252.000000  247.330000  248.560000  10841782.0\n",
       "2018-03-22  246.000000  247.880000  240.341000  241.850000  13663927.0\n",
       "2018-03-23  242.400000  242.670000  232.520000  232.970000  18225390.0\n",
       "2018-03-26  238.000000  244.530000  235.900000  244.480000  15130542.0\n",
       "2018-03-27  247.750000  250.000000  219.845000  225.520000  34462113.0\n",
       "\n",
       "[4825 rows x 5 columns]"
      ]
     },
     "execution_count": 7,
     "metadata": {},
     "output_type": "execute_result"
    }
   ],
   "source": [
    "df"
   ]
  },
  {
   "cell_type": "markdown",
   "metadata": {},
   "source": [
    "# Use TA-Lib Library to Recognise Candlestick Patterns"
   ]
  },
  {
   "cell_type": "code",
   "execution_count": 8,
   "metadata": {},
   "outputs": [],
   "source": [
    "ms = talib.CDLMORNINGSTAR(df['open'], df['high'], df['low'], df['close'])\n",
    "egf = talib.CDLENGULFING(df['open'], df['high'], df['low'], df['close'])\n",
    "hammer = talib.CDLHAMMER(df['open'], df['high'], df['low'], df['close'])\n",
    "hm = talib.CDLHANGINGMAN(df['open'], df['high'], df['low'], df['close'])"
   ]
  },
  {
   "cell_type": "code",
   "execution_count": 9,
   "metadata": {},
   "outputs": [
    {
     "data": {
      "text/plain": [
       "Date\n",
       "2000-02-29    100\n",
       "2000-05-22    100\n",
       "2000-12-08    100\n",
       "2002-02-25    100\n",
       "2002-10-10    100\n",
       "2003-01-28    100\n",
       "2003-08-27    100\n",
       "2004-01-26    100\n",
       "2006-10-04    100\n",
       "2007-08-17    100\n",
       "2008-03-18    100\n",
       "2008-08-05    100\n",
       "2008-10-13    100\n",
       "2009-04-22    100\n",
       "2009-06-09    100\n",
       "2009-10-19    100\n",
       "2011-05-18    100\n",
       "2013-02-22    100\n",
       "2014-07-09    100\n",
       "2014-10-08    100\n",
       "2014-12-17    100\n",
       "2015-06-16    100\n",
       "2015-07-28    100\n",
       "2015-08-07    100\n",
       "2015-12-21    100\n",
       "2017-08-14    100\n",
       "dtype: int32"
      ]
     },
     "execution_count": 9,
     "metadata": {},
     "output_type": "execute_result"
    }
   ],
   "source": [
    "ms[ms != 0]"
   ]
  },
  {
   "cell_type": "code",
   "execution_count": 10,
   "metadata": {},
   "outputs": [
    {
     "data": {
      "text/plain": [
       "Date\n",
       "1999-01-26   -100\n",
       "1999-02-08   -100\n",
       "1999-02-19    100\n",
       "1999-03-16   -100\n",
       "1999-03-22   -100\n",
       "             ... \n",
       "2018-01-10    100\n",
       "2018-01-24   -100\n",
       "2018-02-21   -100\n",
       "2018-02-28   -100\n",
       "2018-03-27   -100\n",
       "Length: 377, dtype: int32"
      ]
     },
     "execution_count": 10,
     "metadata": {},
     "output_type": "execute_result"
    }
   ],
   "source": [
    "egf[egf != 0]"
   ]
  },
  {
   "cell_type": "code",
   "execution_count": 11,
   "metadata": {},
   "outputs": [
    {
     "data": {
      "text/plain": [
       "Date\n",
       "1999-05-28    100\n",
       "1999-07-20    100\n",
       "1999-07-21    100\n",
       "1999-07-27    100\n",
       "1999-09-02    100\n",
       "             ... \n",
       "2017-01-11    100\n",
       "2017-01-12    100\n",
       "2017-03-03    100\n",
       "2017-05-25    100\n",
       "2017-12-22    100\n",
       "Length: 91, dtype: int32"
      ]
     },
     "execution_count": 11,
     "metadata": {},
     "output_type": "execute_result"
    }
   ],
   "source": [
    "hammer[hammer != 0]"
   ]
  },
  {
   "cell_type": "code",
   "execution_count": 12,
   "metadata": {},
   "outputs": [
    {
     "data": {
      "text/plain": [
       "Date\n",
       "1999-05-28   -100\n",
       "1999-06-28   -100\n",
       "1999-07-06   -100\n",
       "1999-11-12   -100\n",
       "2000-02-04   -100\n",
       "             ... \n",
       "2017-09-28   -100\n",
       "2017-11-03   -100\n",
       "2017-12-20   -100\n",
       "2018-02-23   -100\n",
       "2018-02-26   -100\n",
       "Length: 92, dtype: int32"
      ]
     },
     "execution_count": 12,
     "metadata": {},
     "output_type": "execute_result"
    }
   ],
   "source": [
    "hm[hm != 0]"
   ]
  },
  {
   "cell_type": "markdown",
   "metadata": {},
   "source": [
    "# Display the Results of Candlestick Patterns "
   ]
  },
  {
   "cell_type": "code",
   "execution_count": 13,
   "metadata": {},
   "outputs": [
    {
     "name": "stdout",
     "output_type": "stream",
     "text": [
      "Total trading days: 4825\n",
      "Morning Stars appeared: 26 times\n",
      "Engulfing Patterns appeared: 377 times\n",
      "Hammers appeared: 91 times\n",
      "Hanging Men appeared: 92 times\n"
     ]
    }
   ],
   "source": [
    "print(\"Total trading days: {}\".format(df[\"open\"].count()))\n",
    "print(\"Morning Stars appeared: {} times\".format(ms[ms!=0].count()))\n",
    "print(\"Engulfing Patterns appeared: {} times\".format(egf[egf!=0].count()))\n",
    "print(\"Hammers appeared: {} times\".format(hammer[hammer!=0].count()))\n",
    "print(\"Hanging Men appeared: {} times\".format(hm[hm!=0].count()))    "
   ]
  },
  {
   "cell_type": "markdown",
   "metadata": {},
   "source": [
    "# Store the Results in the Copied Dataframe "
   ]
  },
  {
   "cell_type": "code",
   "execution_count": 14,
   "metadata": {},
   "outputs": [],
   "source": [
    "df['morning_star'] = ms\n",
    "df['engulfing'] = egf\n",
    "df['hammer'] = hammer\n",
    "df['hanging_man'] = hm"
   ]
  },
  {
   "cell_type": "code",
   "execution_count": 15,
   "metadata": {},
   "outputs": [
    {
     "data": {
      "text/html": [
       "<div>\n",
       "<style scoped>\n",
       "    .dataframe tbody tr th:only-of-type {\n",
       "        vertical-align: middle;\n",
       "    }\n",
       "\n",
       "    .dataframe tbody tr th {\n",
       "        vertical-align: top;\n",
       "    }\n",
       "\n",
       "    .dataframe thead th {\n",
       "        text-align: right;\n",
       "    }\n",
       "</style>\n",
       "<table border=\"1\" class=\"dataframe\">\n",
       "  <thead>\n",
       "    <tr style=\"text-align: right;\">\n",
       "      <th></th>\n",
       "      <th>open</th>\n",
       "      <th>high</th>\n",
       "      <th>low</th>\n",
       "      <th>close</th>\n",
       "      <th>volume</th>\n",
       "      <th>morning_star</th>\n",
       "      <th>engulfing</th>\n",
       "      <th>hammer</th>\n",
       "      <th>hanging_man</th>\n",
       "    </tr>\n",
       "    <tr>\n",
       "      <th>Date</th>\n",
       "      <th></th>\n",
       "      <th></th>\n",
       "      <th></th>\n",
       "      <th></th>\n",
       "      <th></th>\n",
       "      <th></th>\n",
       "      <th></th>\n",
       "      <th></th>\n",
       "      <th></th>\n",
       "    </tr>\n",
       "  </thead>\n",
       "  <tbody>\n",
       "    <tr>\n",
       "      <th>1999-01-22</th>\n",
       "      <td>1.623824</td>\n",
       "      <td>1.812497</td>\n",
       "      <td>1.440564</td>\n",
       "      <td>1.522529</td>\n",
       "      <td>67867200.0</td>\n",
       "      <td>0</td>\n",
       "      <td>0</td>\n",
       "      <td>0</td>\n",
       "      <td>0</td>\n",
       "    </tr>\n",
       "    <tr>\n",
       "      <th>1999-01-25</th>\n",
       "      <td>1.643156</td>\n",
       "      <td>1.701149</td>\n",
       "      <td>1.522529</td>\n",
       "      <td>1.681818</td>\n",
       "      <td>12762000.0</td>\n",
       "      <td>0</td>\n",
       "      <td>0</td>\n",
       "      <td>0</td>\n",
       "      <td>0</td>\n",
       "    </tr>\n",
       "    <tr>\n",
       "      <th>1999-01-26</th>\n",
       "      <td>1.701149</td>\n",
       "      <td>1.735172</td>\n",
       "      <td>1.527168</td>\n",
       "      <td>1.551139</td>\n",
       "      <td>8580000.0</td>\n",
       "      <td>0</td>\n",
       "      <td>-100</td>\n",
       "      <td>0</td>\n",
       "      <td>0</td>\n",
       "    </tr>\n",
       "    <tr>\n",
       "      <th>1999-01-27</th>\n",
       "      <td>1.556552</td>\n",
       "      <td>1.595214</td>\n",
       "      <td>1.469174</td>\n",
       "      <td>1.546499</td>\n",
       "      <td>6109200.0</td>\n",
       "      <td>0</td>\n",
       "      <td>0</td>\n",
       "      <td>0</td>\n",
       "      <td>0</td>\n",
       "    </tr>\n",
       "    <tr>\n",
       "      <th>1999-01-28</th>\n",
       "      <td>1.546499</td>\n",
       "      <td>1.556552</td>\n",
       "      <td>1.531808</td>\n",
       "      <td>1.541860</td>\n",
       "      <td>5688000.0</td>\n",
       "      <td>0</td>\n",
       "      <td>0</td>\n",
       "      <td>0</td>\n",
       "      <td>0</td>\n",
       "    </tr>\n",
       "    <tr>\n",
       "      <th>...</th>\n",
       "      <td>...</td>\n",
       "      <td>...</td>\n",
       "      <td>...</td>\n",
       "      <td>...</td>\n",
       "      <td>...</td>\n",
       "      <td>...</td>\n",
       "      <td>...</td>\n",
       "      <td>...</td>\n",
       "      <td>...</td>\n",
       "    </tr>\n",
       "    <tr>\n",
       "      <th>2018-03-21</th>\n",
       "      <td>249.320000</td>\n",
       "      <td>252.000000</td>\n",
       "      <td>247.330000</td>\n",
       "      <td>248.560000</td>\n",
       "      <td>10841782.0</td>\n",
       "      <td>0</td>\n",
       "      <td>0</td>\n",
       "      <td>0</td>\n",
       "      <td>0</td>\n",
       "    </tr>\n",
       "    <tr>\n",
       "      <th>2018-03-22</th>\n",
       "      <td>246.000000</td>\n",
       "      <td>247.880000</td>\n",
       "      <td>240.341000</td>\n",
       "      <td>241.850000</td>\n",
       "      <td>13663927.0</td>\n",
       "      <td>0</td>\n",
       "      <td>0</td>\n",
       "      <td>0</td>\n",
       "      <td>0</td>\n",
       "    </tr>\n",
       "    <tr>\n",
       "      <th>2018-03-23</th>\n",
       "      <td>242.400000</td>\n",
       "      <td>242.670000</td>\n",
       "      <td>232.520000</td>\n",
       "      <td>232.970000</td>\n",
       "      <td>18225390.0</td>\n",
       "      <td>0</td>\n",
       "      <td>0</td>\n",
       "      <td>0</td>\n",
       "      <td>0</td>\n",
       "    </tr>\n",
       "    <tr>\n",
       "      <th>2018-03-26</th>\n",
       "      <td>238.000000</td>\n",
       "      <td>244.530000</td>\n",
       "      <td>235.900000</td>\n",
       "      <td>244.480000</td>\n",
       "      <td>15130542.0</td>\n",
       "      <td>0</td>\n",
       "      <td>0</td>\n",
       "      <td>0</td>\n",
       "      <td>0</td>\n",
       "    </tr>\n",
       "    <tr>\n",
       "      <th>2018-03-27</th>\n",
       "      <td>247.750000</td>\n",
       "      <td>250.000000</td>\n",
       "      <td>219.845000</td>\n",
       "      <td>225.520000</td>\n",
       "      <td>34462113.0</td>\n",
       "      <td>0</td>\n",
       "      <td>-100</td>\n",
       "      <td>0</td>\n",
       "      <td>0</td>\n",
       "    </tr>\n",
       "  </tbody>\n",
       "</table>\n",
       "<p>4825 rows × 9 columns</p>\n",
       "</div>"
      ],
      "text/plain": [
       "                  open        high         low       close      volume  \\\n",
       "Date                                                                     \n",
       "1999-01-22    1.623824    1.812497    1.440564    1.522529  67867200.0   \n",
       "1999-01-25    1.643156    1.701149    1.522529    1.681818  12762000.0   \n",
       "1999-01-26    1.701149    1.735172    1.527168    1.551139   8580000.0   \n",
       "1999-01-27    1.556552    1.595214    1.469174    1.546499   6109200.0   \n",
       "1999-01-28    1.546499    1.556552    1.531808    1.541860   5688000.0   \n",
       "...                ...         ...         ...         ...         ...   \n",
       "2018-03-21  249.320000  252.000000  247.330000  248.560000  10841782.0   \n",
       "2018-03-22  246.000000  247.880000  240.341000  241.850000  13663927.0   \n",
       "2018-03-23  242.400000  242.670000  232.520000  232.970000  18225390.0   \n",
       "2018-03-26  238.000000  244.530000  235.900000  244.480000  15130542.0   \n",
       "2018-03-27  247.750000  250.000000  219.845000  225.520000  34462113.0   \n",
       "\n",
       "            morning_star  engulfing  hammer  hanging_man  \n",
       "Date                                                      \n",
       "1999-01-22             0          0       0            0  \n",
       "1999-01-25             0          0       0            0  \n",
       "1999-01-26             0       -100       0            0  \n",
       "1999-01-27             0          0       0            0  \n",
       "1999-01-28             0          0       0            0  \n",
       "...                  ...        ...     ...          ...  \n",
       "2018-03-21             0          0       0            0  \n",
       "2018-03-22             0          0       0            0  \n",
       "2018-03-23             0          0       0            0  \n",
       "2018-03-26             0          0       0            0  \n",
       "2018-03-27             0       -100       0            0  \n",
       "\n",
       "[4825 rows x 9 columns]"
      ]
     },
     "execution_count": 15,
     "metadata": {},
     "output_type": "execute_result"
    }
   ],
   "source": [
    "df"
   ]
  },
  {
   "cell_type": "markdown",
   "metadata": {},
   "source": [
    "# Plot Financial Data"
   ]
  },
  {
   "cell_type": "code",
   "execution_count": null,
   "metadata": {},
   "outputs": [],
   "source": []
  },
  {
   "cell_type": "code",
   "execution_count": null,
   "metadata": {},
   "outputs": [],
   "source": []
  },
  {
   "cell_type": "code",
   "execution_count": null,
   "metadata": {},
   "outputs": [],
   "source": []
  },
  {
   "cell_type": "code",
   "execution_count": null,
   "metadata": {},
   "outputs": [],
   "source": []
  },
  {
   "cell_type": "code",
   "execution_count": null,
   "metadata": {},
   "outputs": [],
   "source": []
  },
  {
   "cell_type": "code",
   "execution_count": null,
   "metadata": {},
   "outputs": [],
   "source": []
  },
  {
   "cell_type": "code",
   "execution_count": null,
   "metadata": {},
   "outputs": [],
   "source": []
  },
  {
   "cell_type": "code",
   "execution_count": null,
   "metadata": {},
   "outputs": [],
   "source": []
  },
  {
   "cell_type": "code",
   "execution_count": null,
   "metadata": {},
   "outputs": [],
   "source": []
  },
  {
   "cell_type": "code",
   "execution_count": null,
   "metadata": {},
   "outputs": [],
   "source": []
  }
 ],
 "metadata": {
  "kernelspec": {
   "display_name": "Python 3",
   "language": "python",
   "name": "python3"
  },
  "language_info": {
   "codemirror_mode": {
    "name": "ipython",
    "version": 3
   },
   "file_extension": ".py",
   "mimetype": "text/x-python",
   "name": "python",
   "nbconvert_exporter": "python",
   "pygments_lexer": "ipython3",
   "version": "3.8.5"
  }
 },
 "nbformat": 4,
 "nbformat_minor": 4
}
